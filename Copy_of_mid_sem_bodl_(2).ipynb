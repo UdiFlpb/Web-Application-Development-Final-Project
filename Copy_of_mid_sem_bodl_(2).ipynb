{
  "nbformat": 4,
  "nbformat_minor": 0,
  "metadata": {
    "colab": {
      "provenance": [],
      "include_colab_link": true
    },
    "kernelspec": {
      "name": "python3",
      "display_name": "Python 3"
    },
    "language_info": {
      "name": "python"
    },
    "gpuClass": "standard"
  },
  "cells": [
    {
      "cell_type": "markdown",
      "metadata": {
        "id": "view-in-github",
        "colab_type": "text"
      },
      "source": [
        "<a href=\"https://colab.research.google.com/github/UdiFlpb/Web-Application-Development-Final-Project/blob/main/Copy_of_mid_sem_bodl_(2).ipynb\" target=\"_parent\"><img src=\"https://colab.research.google.com/assets/colab-badge.svg\" alt=\"Open In Colab\"/></a>"
      ]
    },
    {
      "cell_type": "markdown",
      "source": [
        "# Mid-semester assignment Part 1 - Basics of deep learning\n",
        "Hello dear students,<br> this is the template notebook. Please upload it into your drive and open as Google Colab nootebook\".\n",
        "\n",
        "---\n",
        "<br>\n",
        "\n",
        "### Name and ID:\n",
        "Student 1:\n",
        "<br>\n",
        "Student 2:"
      ],
      "metadata": {
        "collapsed": false,
        "pycharm": {
          "name": "#%% md\n"
        },
        "id": "XDDbguyGU8Fs"
      }
    },
    {
      "cell_type": "markdown",
      "source": [
        "## Fashion MNIST\n",
        "Fashion MNIST dataset contains 70,000 grayscale images in 10 categories. The images show individual articles of clothing at low resolution (28 by 28 pixels), as seen here:\n",
        "\n",
        "<table>\n",
        "  <tr><td>\n",
        "    <img src=\"https://tensorflow.org/images/fashion-mnist-sprite.png\"\n",
        "         alt=\"Fashion MNIST sprite\"  width=\"600\">\n",
        "  </td></tr>\n",
        "  \n",
        "</table>\n",
        "\n"
      ],
      "metadata": {
        "id": "JLkWLC8f3HZI"
      }
    },
    {
      "cell_type": "markdown",
      "source": [
        "Loading the dataset returns four NumPy arrays:\n",
        "\n",
        "* The `train_images` and `train_labels` arrays are the *training set*—the data the model uses to learn.\n",
        "* The model is tested against the *test set*, the `test_images`, and `test_labels` arrays.\n",
        "\n",
        "The images are 28x28 NumPy arrays, with pixel values ranging between 0 and 255. The *labels* are an array of integers, ranging from 0 to 9. These correspond to the *class* of clothing the image represents:\n",
        "\n",
        "<table>\n",
        "  <tr>\n",
        "    <th>Label</th>\n",
        "    <th>Class</th>\n",
        "  </tr>\n",
        "  <tr>\n",
        "    <td>0</td>\n",
        "    <td>T-shirt/top</td>\n",
        "  </tr>\n",
        "  <tr>\n",
        "    <td>1</td>\n",
        "    <td>Trouser</td>\n",
        "  </tr>\n",
        "    <tr>\n",
        "    <td>2</td>\n",
        "    <td>Pullover</td>\n",
        "  </tr>\n",
        "    <tr>\n",
        "    <td>3</td>\n",
        "    <td>Dress</td>\n",
        "  </tr>\n",
        "    <tr>\n",
        "    <td>4</td>\n",
        "    <td>Coat</td>\n",
        "  </tr>\n",
        "    <tr>\n",
        "    <td>5</td>\n",
        "    <td>Sandal</td>\n",
        "  </tr>\n",
        "    <tr>\n",
        "    <td>6</td>\n",
        "    <td>Shirt</td>\n",
        "  </tr>\n",
        "    <tr>\n",
        "    <td>7</td>\n",
        "    <td>Sneaker</td>\n",
        "  </tr>\n",
        "    <tr>\n",
        "    <td>8</td>\n",
        "    <td>Bag</td>\n",
        "  </tr>\n",
        "    <tr>\n",
        "    <td>9</td>\n",
        "    <td>Ankle boot</td>\n",
        "  </tr>\n",
        "</table>\n",
        "\n",
        "<br>\n",
        "\n",
        "# Goodluck!"
      ],
      "metadata": {
        "id": "WiRxNFCn3Vxd"
      }
    },
    {
      "cell_type": "markdown",
      "source": [
        "#Neural Network in plain NumPy"
      ],
      "metadata": {
        "collapsed": false,
        "id": "4K84YZ_QU8Fv"
      }
    },
    {
      "cell_type": "markdown",
      "source": [
        "## Import Libraries"
      ],
      "metadata": {
        "id": "QReFpU112hLT"
      }
    },
    {
      "cell_type": "code",
      "source": [
        "import numpy as np\n",
        "import matplotlib\n",
        "import matplotlib.pyplot as plt\n",
        "from sklearn.datasets import fetch_openml\n",
        "from sklearn.metrics import classification_report, confusion_matrix\n"
      ],
      "metadata": {
        "pycharm": {
          "name": "#%%\n"
        },
        "id": "tLOHjUiFU8Fv"
      },
      "execution_count": null,
      "outputs": []
    },
    {
      "cell_type": "markdown",
      "source": [
        "## Load Dataset"
      ],
      "metadata": {
        "id": "D5MsCpUv2tuj"
      }
    },
    {
      "cell_type": "code",
      "source": [
        "X, y = fetch_openml('Fashion-MNIST', version=1, return_X_y=True, as_frame=False)\n",
        "print(X.shape, y.shape)"
      ],
      "metadata": {
        "id": "nbzv9ZYA2pyW",
        "outputId": "32d588fd-2f7e-4977-8cf4-3668df9029e9",
        "colab": {
          "base_uri": "https://localhost:8080/"
        }
      },
      "execution_count": null,
      "outputs": [
        {
          "output_type": "stream",
          "name": "stdout",
          "text": [
            "(70000, 784) (70000,)\n"
          ]
        }
      ]
    },
    {
      "cell_type": "markdown",
      "metadata": {
        "id": "GPBGGKtSoVpU"
      },
      "source": [
        "## Data preprocessing (10%)"
      ]
    },
    {
      "cell_type": "markdown",
      "metadata": {
        "id": "LZfq8otp-wXY"
      },
      "source": [
        "### Feature scaling"
      ]
    },
    {
      "cell_type": "code",
      "metadata": {
        "id": "7MZtZIzzDIKe",
        "outputId": "3bb8611d-21a6-4e60-807d-807b2a22ab23",
        "colab": {
          "base_uri": "https://localhost:8080/"
        }
      },
      "source": [
        "examples = y.shape[0]\n",
        "y1 = y.reshape(1, examples)\n",
        "X1 = X / 255\n",
        "X1 = X1.T\n",
        "print(X1.shape)\n",
        "print(y1.shape)"
      ],
      "execution_count": null,
      "outputs": [
        {
          "output_type": "stream",
          "name": "stdout",
          "text": [
            "(784, 70000)\n",
            "(1, 70000)\n"
          ]
        }
      ]
    },
    {
      "cell_type": "markdown",
      "metadata": {
        "id": "i6K01j7A_Z4W"
      },
      "source": [
        "### Select two classes"
      ]
    },
    {
      "cell_type": "code",
      "metadata": {
        "id": "7OuPZ0o8DNWq",
        "outputId": "d0a08bf0-235c-4d11-a32b-dadc7b4934fa",
        "colab": {
          "base_uri": "https://localhost:8080/"
        }
      },
      "source": [
        "#TODO: select two classes (for example 2-Pullover and 4-Coat)\n",
        "\n",
        "#Lets filter for 1-Trousers and 0-Tshirt/tops\n",
        "filtered_array= y1[0][(y1[0]=='0') | (y1[0]=='1')]\n",
        "\n",
        "y_filtered=np.array(filtered_array.reshape(1, filtered_array.shape[0]))\n",
        "\n",
        "\n",
        "filtered_X1 = [X1[:,key] for (key, class_label) in enumerate(y1[0]) if class_label == '0' or class_label == '1']\n",
        "\n",
        "X1_filtered= np.array(filtered_X1).T\n",
        "\n",
        "print(X1_filtered.shape)\n",
        "print(y_filtered.shape)\n"
      ],
      "execution_count": null,
      "outputs": [
        {
          "output_type": "stream",
          "name": "stdout",
          "text": [
            "(784, 14000)\n",
            "(1, 14000)\n"
          ]
        }
      ]
    },
    {
      "cell_type": "markdown",
      "metadata": {
        "id": "cn5UPcIQH2jS"
      },
      "source": [
        "### Split the data into Train set and Test set"
      ]
    },
    {
      "cell_type": "code",
      "metadata": {
        "id": "FBUI2DZmhd0y",
        "outputId": "724e7af3-dafc-4ff5-84aa-a36eaf21cef8",
        "colab": {
          "base_uri": "https://localhost:8080/"
        }
      },
      "source": [
        "# TODO: Split the data into Train set and Test set (The use of libraries other than Numpy is strictly prohibited)\n",
        "from sklearn.utils import shuffle\n",
        "\n",
        "X = X1_filtered\n",
        "Y = y_filtered\n",
        "\n",
        "# Use shuffle on the train data\n",
        "X, y = shuffle(X1_filtered.T, y_filtered.T)\n",
        "\n",
        "filtered_samples_X= round(len(X)*.90)\n",
        "filtered_samples_y= round(len(y)*.90)\n",
        "X_train, X_test = X[:filtered_samples_X,:].T, X[filtered_samples_X:,:].T\n",
        "\n",
        "print(X_train.shape)\n",
        "print(X_test.shape)\n",
        "Y_train, Y_test = y[:filtered_samples_y,:].T, y[filtered_samples_y:,:].T\n",
        "\n",
        "\n",
        "print(Y_train.shape)\n",
        "print(Y_test.shape)"
      ],
      "execution_count": null,
      "outputs": [
        {
          "output_type": "stream",
          "name": "stdout",
          "text": [
            "(784, 12600)\n",
            "(784, 1400)\n",
            "(1, 12600)\n",
            "(1, 1400)\n"
          ]
        }
      ]
    },
    {
      "cell_type": "markdown",
      "metadata": {
        "id": "gg7D7fwGH9Yv"
      },
      "source": [
        "### Test yourself"
      ]
    },
    {
      "cell_type": "code",
      "metadata": {
        "id": "wkLl0PSyDR9S",
        "outputId": "79327ec6-8c7b-4b8c-d201-1ce2977a7470",
        "colab": {
          "base_uri": "https://localhost:8080/",
          "height": 268
        }
      },
      "source": [
        "# Test yourself (Check that the classes you have selected are actually displayed)\n",
        "%matplotlib inline\n",
        "from numpy import random\n",
        "\n",
        "i = random.randint(100)\n",
        "plt.imshow(X_train[:,i].reshape(28,28), cmap = matplotlib.cm.binary)\n",
        "plt.axis(\"off\")\n",
        "plt.show()\n",
        "Y_train.T[i,0]"
      ],
      "execution_count": null,
      "outputs": [
        {
          "output_type": "display_data",
          "data": {
            "text/plain": [
              "<Figure size 432x288 with 1 Axes>"
            ],
            "image/png": "[encoded data removed]"
          },
          "metadata": {
            "needs_background": "light"
          }
        },
        {
          "output_type": "execute_result",
          "data": {
            "text/plain": [
              "'1'"
            ],
            "application/vnd.google.colaboratory.intrinsic+json": {
              "type": "string"
            }
          },
          "metadata": {},
          "execution_count": 23
        }
      ]
    },
    {
      "cell_type": "markdown",
      "metadata": {
        "id": "Q81OW5M7oCWZ"
      },
      "source": [
        "## Activation functions (10%)"
      ]
    },
    {
      "cell_type": "code",
      "metadata": {
        "id": "nxruxXBsDmP-"
      },
      "source": [
        "#TODO: Sigmoid activation function\n",
        "def sigmoid(z):\n",
        "    return (1/(1+np.exp(-z)))"
      ],
      "execution_count": null,
      "outputs": []
    },
    {
      "cell_type": "markdown",
      "metadata": {
        "id": "OBIAUcVboOG9"
      },
      "source": [
        "## Loss function (20%)\n",
        "BCE Loss function captures the intuition that the neural network should pay a high penalty(Loss→∞) when the estimated probability, with respect to the training example’s label, is completely wrong. On the other hand, the Loss should equal zero(Loss=0) when the estimated probability, with respect to the training example’s label, is correct. Simply put, the BCE Loss should equal zero in only two instances:<br>\n",
        "* if the example is positively labeled(y=1) the neural network model should be completely sure that the example belongs to the positive class i.e p̂=1.\n",
        "* if the example is negatively labeled(y=0) the neural network model should be completely sure that the example does not belong to the positive class i.e p̂=0.\n",
        "\n",
        "<b> When we work with a computer, there are very high values or very low values that it cannot handle and that could cause the system to crash. <br>In order to overcome the case where the function returns values that strive for infinity you will need to understand which range of values causes the logarithm to return inf \\ -inf and handle this within the function. </b>"
      ]
    },
    {
      "cell_type": "code",
      "metadata": {
        "id": "U0i2o9_KDUdQ"
      },
      "source": [
        "#TODO: Binary cross entropy\n",
        "def log_loss(y_hat, y):\n",
        "  \n",
        "    es= 1e-15\n",
        "    predicted_probability = np.clip(y_hat, es, 1 - es)\n",
        "    result= (-((y * np.log10(predicted_probability)) + (1-y) * np.log10(1-predicted_probability))).mean()\n",
        "\n",
        "    return result\n"
      ],
      "execution_count": null,
      "outputs": []
    },
    {
      "cell_type": "markdown",
      "metadata": {
        "id": "WY9DQPrJmvHZ"
      },
      "source": [
        "## NN Hyper Parameters"
      ]
    },
    {
      "cell_type": "code",
      "metadata": {
        "id": "qGCU_QYRnJap"
      },
      "source": [
        "input_layer = X_train.shape[0] # 28X28 = 784\n",
        "hidden_layer = X_train.shape[0]\n",
        "learning_rate = 0.35\n",
        "epochs = 10"
      ],
      "execution_count": null,
      "outputs": []
    },
    {
      "cell_type": "markdown",
      "metadata": {
        "id": "M6SdHpc2m3vV"
      },
      "source": [
        "## Weight and Bias Initialization"
      ]
    },
    {
      "cell_type": "code",
      "metadata": {
        "id": "IVRoMGxTnLZI",
        "colab": {
          "base_uri": "https://localhost:8080/"
        },
        "outputId": "ab827e2b-6baa-4aab-faab-e6aa82b6336a"
      },
      "source": [
        "W1 = np.random.randn(hidden_layer, input_layer)*0.01\n",
        "b1 = np.zeros((hidden_layer, 1))\n",
        "W2 = np.random.randn(1, hidden_layer)*0.01\n",
        "b2 = np.zeros((1, 1))\n",
        "\n",
        "print(W1.shape)\n",
        "print(b1.shape)\n",
        "print(W2.shape)\n",
        "print(b2.shape)"
      ],
      "execution_count": null,
      "outputs": [
        {
          "output_type": "stream",
          "name": "stdout",
          "text": [
            "(784, 784)\n",
            "(784, 1)\n",
            "(1, 784)\n",
            "(1, 1)\n"
          ]
        }
      ]
    },
    {
      "cell_type": "markdown",
      "metadata": {
        "id": "fp-IaWECn6Hu"
      },
      "source": [
        "## Training (30%)"
      ]
    },
    {
      "cell_type": "code",
      "metadata": {
        "id": "4tdlcCGLDo7F",
        "colab": {
          "base_uri": "https://localhost:8080/"
        },
        "outputId": "9041857f-0b73-4c99-841d-73ab1e790fe5"
      },
      "source": [
        "X = X_train\n",
        "Y = Y_train\n",
        "loss_list = []\n",
        "epoch_list = []\n",
        "numOfTraining = X_train.shape[1] # Write the number of examples in your train set\n",
        "\n",
        "\n",
        "def f_forward(x, w1, w2):\n",
        "    # hidden\n",
        "    z1 = x.dot(w1)# input from layer 1\n",
        "    a1 = sigmoid(z1)# out put of layer 2\n",
        "     \n",
        "    # Output layer\n",
        "    z2 = a1.dot(w2.T)# input of out layer\n",
        "    a2 = sigmoid(z2)# output of out layer\n",
        "    return(a2)\n",
        "\n",
        "# Back propagation of error\n",
        "def back_prop(x, y, w1, w2, alpha):\n",
        "     \n",
        "    # hidden layer\n",
        "    z1 = x.dot(w1)  \n",
        "    a1 = sigmoid(z1) \n",
        "    #print(a1.reshape(1,-1).shape)\n",
        "     \n",
        "    # Output layer\n",
        "    z2 = a1.dot(w2.T)# input of out layer\n",
        "    a2 = sigmoid(z2)# output of out layer\n",
        "    #print(a2.shape)\n",
        "    # error in output layer\n",
        "    d2 =(a2-np.array(float(y),))\n",
        "    #print(d2.shape)\n",
        "    d1 = np.multiply((w2.T.dot((d2.transpose()))).transpose(),\n",
        "                                   (np.multiply(a1, 1-a1)))\n",
        " \n",
        "    # Gradient for w1 and w2\n",
        "    w1_adj = x.transpose().dot(d1)\n",
        "    w2_adj = a1.reshape(-1,1).dot(d2)\n",
        "     \n",
        "    # Updating parameters\n",
        "    w1 = w1-(alpha*(w1_adj))\n",
        "    w2 = w2-(alpha*(w2_adj))\n",
        "     \n",
        "    return(w1, w2)\n",
        "\n",
        "for i in range(epochs):\n",
        "  epoch_list.append(i)\n",
        "  for j in range(1,numOfTraining):\n",
        "\n",
        "    out = f_forward(X[:,j], W1, W2)\n",
        "\n",
        "    W1, W2 = back_prop(X[:,j], Y[0][j], W1, W2, learning_rate)\n",
        "\n",
        "  loss_list.append((log_loss(out, float(Y[0][j]))))\n",
        "\n",
        "  print('avg_epoch_loss')\n",
        "  print((log_loss(out, float(Y[0][j]))))\n"
      ],
      "execution_count": 40,
      "outputs": [
        {
          "output_type": "stream",
          "name": "stderr",
          "text": [
            "<ipython-input-24-d132732958d0>:3: RuntimeWarning: overflow encountered in exp\n",
            "  return (1/(1+np.exp(-z)))\n"
          ]
        },
        {
          "output_type": "stream",
          "name": "stdout",
          "text": [
            "avg_epoch_loss\n",
            "0.3010299956639812\n",
            "avg_epoch_loss\n",
            "0.3010299956639812\n",
            "avg_epoch_loss\n",
            "0.3010299956639812\n",
            "avg_epoch_loss\n",
            "0.3010299956639812\n",
            "avg_epoch_loss\n",
            "0.3010299956639812\n",
            "avg_epoch_loss\n",
            "0.3010299956639812\n",
            "avg_epoch_loss\n",
            "0.3010299956639812\n",
            "avg_epoch_loss\n",
            "0.3010299956639812\n",
            "avg_epoch_loss\n",
            "0.3010299956639812\n",
            "avg_epoch_loss\n",
            "0.3010299956639812\n"
          ]
        }
      ]
    },
    {
      "cell_type": "markdown",
      "metadata": {
        "id": "TdgCk97534-B"
      },
      "source": [
        "### Loss Visualization"
      ]
    },
    {
      "cell_type": "code",
      "metadata": {
        "id": "RFo9NN5Q31X8",
        "colab": {
          "base_uri": "https://localhost:8080/",
          "height": 296
        },
        "outputId": "ded86ba2-eee8-40e9-f04e-8b528a0d7c34"
      },
      "source": [
        "import matplotlib.pyplot as plt\n",
        "plt.xlabel('Epoch Number')\n",
        "plt.ylabel(\"Loss\")\n",
        "plt.plot(epoch_list, loss_list)"
      ],
      "execution_count": 41,
      "outputs": [
        {
          "output_type": "execute_result",
          "data": {
            "text/plain": [
              "[<matplotlib.lines.Line2D at 0x7f850440fe20>]"
            ]
          },
          "metadata": {},
          "execution_count": 41
        },
        {
          "output_type": "display_data",
          "data": {
            "text/plain": [
              "<Figure size 432x288 with 1 Axes>"
            ],
            "image/png": "[encoded data removed]"
          },
          "metadata": {
            "needs_background": "light"
          }
        }
      ]
    },
    {
      "cell_type": "markdown",
      "source": [
        "## Results"
      ],
      "metadata": {
        "id": "5HV5g7j92Xfn"
      }
    },
    {
      "cell_type": "markdown",
      "metadata": {
        "id": "raBFclM5ploH"
      },
      "source": [
        "### Test your performance (30%)"
      ]
    },
    {
      "cell_type": "code",
      "metadata": {
        "id": "flfh-luxDs7Z",
        "colab": {
          "base_uri": "https://localhost:8080/"
        },
        "outputId": "47a33a68-ecfa-4db0-ab8d-67bf5e82bb36"
      },
      "source": [
        "#TODO: Forward batch of examples\n",
        "X = X_test\n",
        "Y = Y_test\n",
        "\n",
        "Out=[]\n",
        "for j in range(X_test.shape[0]):\n",
        "\n",
        "  Out.append(f_forward(X_test[:,j], W1, W2))\n",
        "  predictions = np.zeros((1,Y.shape[1]))\n",
        "  labels = np.zeros((1,Y.shape[1]))\n",
        "\n",
        "  for i in range(len(Out[0])):\n",
        "    if(Out[0][i]>0.5):\n",
        "        predictions.tolist().append(1)\n",
        "        labels.tolist().append(Y_test[0][i])\n",
        "\n",
        "\n",
        "# Print the confusion matrix In order to test your performance\n",
        "print(confusion_matrix(predictions[0], labels[0]))\n",
        "\n",
        "#Print Accuracy\n",
        "from sklearn.metrics import accuracy_score\n",
        "print(accuracy_score(predictions[0], labels[0])*100,\"%\")"
      ],
      "execution_count": 42,
      "outputs": [
        {
          "output_type": "stream",
          "name": "stdout",
          "text": [
            "[[1400]]\n",
            "100.0 %\n"
          ]
        }
      ]
    },
    {
      "cell_type": "markdown",
      "source": [
        "### Visualize the results"
      ],
      "metadata": {
        "id": "7FtZr0EQBlcm"
      }
    },
    {
      "cell_type": "code",
      "metadata": {
        "id": "gAj_5W2wVUrI",
        "colab": {
          "base_uri": "https://localhost:8080/",
          "height": 1000
        },
        "outputId": "d6ad65dc-000e-4213-a74a-84c8daf720a2"
      },
      "source": [
        "#TODO: SHOW VISUALLY RESULTS ON 10 TEST EXAMPLES\n",
        "%matplotlib inline\n",
        "from numpy import random\n",
        "\n",
        "j = random.randint(100, 200)\n",
        "\n",
        "\n",
        "for i in range(j,j+11,1):\n",
        "  print(i)\n",
        "  plt.imshow(X_test[:,i].reshape(28,28), cmap = matplotlib.cm.binary)\n",
        "  plt.axis(\"off\")\n",
        "  plt.show()\n",
        "  Y_test.T[i,0]\n",
        "\n",
        "  Z1 = np.matmul(W1,X_test[:,i]) +b1\n",
        "  A1 =sigmoid(Z1)\n",
        "  Z2 = np.matmul(W2,X_test[:,i]) +b2\n",
        "  A2 = sigmoid(Z2)\n",
        "  Yout = Y.T[i,0] \n",
        "  print(\"Real=\", Y_test.T[i,0], \"Predicted=\",A2)\n"
      ],
      "execution_count": 43,
      "outputs": [
        {
          "output_type": "stream",
          "name": "stdout",
          "text": [
            "134\n"
          ]
        },
        {
          "output_type": "display_data",
          "data": {
            "text/plain": [
              "<Figure size 432x288 with 1 Axes>"
            ],
            "image/png": "[encoded data removed]"
          },
          "metadata": {
            "needs_background": "light"
          }
        },
        {
          "output_type": "stream",
          "name": "stdout",
          "text": [
            "Real= 1 Predicted= [[0.99999999]]\n",
            "135\n"
          ]
        },
        {
          "output_type": "display_data",
          "data": {
            "text/plain": [
              "<Figure size 432x288 with 1 Axes>"
            ],
            "image/png": "[encoded data removed]"
          },
          "metadata": {
            "needs_background": "light"
          }
        },
        {
          "output_type": "stream",
          "name": "stdout",
          "text": [
            "Real= 0 Predicted= [[1.]]\n",
            "136\n"
          ]
        },
        {
          "output_type": "display_data",
          "data": {
            "text/plain": [
              "<Figure size 432x288 with 1 Axes>"
            ],
            "image/png": "[encoded data removed]"
          },
          "metadata": {
            "needs_background": "light"
          }
        },
        {
          "output_type": "stream",
          "name": "stdout",
          "text": [
            "Real= 1 Predicted= [[0.99999966]]\n",
            "137\n"
          ]
        },
        {
          "output_type": "display_data",
          "data": {
            "text/plain": [
              "<Figure size 432x288 with 1 Axes>"
            ],
            "image/png": "[encoded data removed]"
          },
          "metadata": {
            "needs_background": "light"
          }
        },
        {
          "output_type": "stream",
          "name": "stdout",
          "text": [
            "Real= 1 Predicted= [[0.99999976]]\n",
            "138\n"
          ]
        },
        {
          "output_type": "display_data",
          "data": {
            "text/plain": [
              "<Figure size 432x288 with 1 Axes>"
            ],
            "image/png": "[encoded data removed]"
          },
          "metadata": {
            "needs_background": "light"
          }
        },
        {
          "output_type": "stream",
          "name": "stdout",
          "text": [
            "Real= 1 Predicted= [[1.]]\n",
            "139\n"
          ]
        },
        {
          "output_type": "display_data",
          "data": {
            "text/plain": [
              "<Figure size 432x288 with 1 Axes>"
            ],
            "image/png": "[encoded data removed]"
          },
          "metadata": {
            "needs_background": "light"
          }
        },
        {
          "output_type": "stream",
          "name": "stdout",
          "text": [
            "Real= 1 Predicted= [[1.]]\n",
            "140\n"
          ]
        },
        {
          "output_type": "display_data",
          "data": {
            "text/plain": [
              "<Figure size 432x288 with 1 Axes>"
            ],
            "image/png": "[encoded data removed]"
          },
          "metadata": {
            "needs_background": "light"
          }
        },
        {
          "output_type": "stream",
          "name": "stdout",
          "text": [
            "Real= 1 Predicted= [[0.99999965]]\n",
            "141\n"
          ]
        },
        {
          "output_type": "display_data",
          "data": {
            "text/plain": [
              "<Figure size 432x288 with 1 Axes>"
            ],
            "image/png": "[encoded data removed]"
          },
          "metadata": {
            "needs_background": "light"
          }
        },
        {
          "output_type": "stream",
          "name": "stdout",
          "text": [
            "Real= 1 Predicted= [[0.99999855]]\n",
            "142\n"
          ]
        },
        {
          "output_type": "display_data",
          "data": {
            "text/plain": [
              "<Figure size 432x288 with 1 Axes>"
            ],
            "image/png": "[encoded data removed]"
          },
          "metadata": {
            "needs_background": "light"
          }
        },
        {
          "output_type": "stream",
          "name": "stdout",
          "text": [
            "Real= 0 Predicted= [[0.99981374]]\n",
            "143\n"
          ]
        },
        {
          "output_type": "display_data",
          "data": {
            "text/plain": [
              "<Figure size 432x288 with 1 Axes>"
            ],
            "image/png": "[encoded data removed]"
          },
          "metadata": {
            "needs_background": "light"
          }
        },
        {
          "output_type": "stream",
          "name": "stdout",
          "text": [
            "Real= 0 Predicted= [[1.]]\n",
            "144\n"
          ]
        },
        {
          "output_type": "display_data",
          "data": {
            "text/plain": [
              "<Figure size 432x288 with 1 Axes>"
            ],
            "image/png": "[encoded data removed]"
          },
          "metadata": {
            "needs_background": "light"
          }
        },
        {
          "output_type": "stream",
          "name": "stdout",
          "text": [
            "Real= 1 Predicted= [[0.99999987]]\n"
          ]
        }
      ]
    },
    {
      "cell_type": "code",
      "source": [],
      "metadata": {
        "id": "l2QZIQcUvToK"
      },
      "execution_count": null,
      "outputs": []
    }
  ]
}